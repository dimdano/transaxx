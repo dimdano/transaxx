{
 "cells": [
  {
   "cell_type": "markdown",
   "id": "3a6f0af6",
   "metadata": {},
   "source": [
    "# Model evaluation and re-training with TransAxx on CIFAR10 dataset\n",
    "\n",
    "In this notebook you can evaluate different approximate multipliers on various models.\n",
    "You can also retrain the model for further accuracy improvement\n",
    "\n",
    "**Note**:\n",
    "* Currently, the quantization bitwidth supported is 8bit and supported layers are Conv2d and Linear\n",
    "\n",
    "* Please make sure you have run the installation steps first\n",
    "\n",
    "* This example notebook approximates Conv2d layers"
   ]
  },
  {
   "cell_type": "code",
   "execution_count": null,
   "id": "f31a01e0",
   "metadata": {},
   "outputs": [],
   "source": [
    "from classification.utils import *\n",
    "device = 'cuda'"
   ]
  },
  {
   "cell_type": "markdown",
   "id": "3edbe30f",
   "metadata": {},
   "source": [
    "## Load dataset\n",
    "\n",
    "Set your path for the CIFAR10 dataset\n",
    "\n",
    "'calib dataset' is created from a 10% sample of train data for calibration purposes\n"
   ]
  },
  {
   "cell_type": "code",
   "execution_count": null,
   "id": "dd00e88a-3fab-48de-acc5-3a4a7fc7c472",
   "metadata": {},
   "outputs": [],
   "source": [
    "val_data, calib_data = cifar10_data_loader(data_path=\"/workspace/datasets/cifar10_data\", batch_size=128)"
   ]
  },
  {
   "cell_type": "markdown",
   "id": "3bae3e54",
   "metadata": {},
   "source": [
    "## Select a pretrained model"
   ]
  },
  {
   "cell_type": "code",
   "execution_count": null,
   "id": "5ea9319f",
   "metadata": {},
   "outputs": [],
   "source": [
    "# an example repo with cifar10 models. you can use your own (ref: https://github.com/chenyaofo/pytorch-cifar-models)\n",
    "model = torch.hub.load(\"chenyaofo/pytorch-cifar-models\", 'cifar10_repvgg_a0', pretrained=True).to(device)"
   ]
  },
  {
   "cell_type": "markdown",
   "id": "60f2e8b9-0c1c-4a5e-b0f9-8c1c55d8dead",
   "metadata": {},
   "source": [
    "## Optional: Evaluate default model\n"
   ]
  },
  {
   "cell_type": "code",
   "execution_count": null,
   "id": "212cd8c3-cdd3-47af-b7dc-ea677f9df40a",
   "metadata": {},
   "outputs": [],
   "source": [
    "top1 = evaluate_cifar10(model, val_data, device = device)"
   ]
  },
  {
   "cell_type": "markdown",
   "id": "efe4183a",
   "metadata": {},
   "source": [
    "## Initialize model with axx layers\n"
   ]
  },
  {
   "cell_type": "code",
   "execution_count": null,
   "id": "1064ebb6-2bdf-4523-981a-cab5dc3ae0ae",
   "metadata": {},
   "outputs": [],
   "source": [
    "# get conv2d layers to approximate\n",
    "conv2d_layers = [(name, module) for name, module in model.named_modules() if (isinstance(module, torch.nn.Conv2d) or isinstance(module, AdaptConv2D)) and (\"head\" not in name and \"reduction\" not in name)]"
   ]
  },
  {
   "cell_type": "code",
   "execution_count": null,
   "id": "ce2db2d4",
   "metadata": {},
   "outputs": [],
   "source": [
    "len(conv2d_layers)"
   ]
  },
  {
   "cell_type": "code",
   "execution_count": null,
   "id": "06b65a94",
   "metadata": {},
   "outputs": [],
   "source": [
    "# Initialize model with all required approximate multipliers for axx layers. \n",
    "# No explicit assignment needed; this step JIT compiles all upcoming multipliers\n",
    "\n",
    "axx_list = [{'axx_mult' : 'mul8s_acc', 'axx_power' : 1.0, 'quant_bits' : 8, 'fake_quant' : False}]*len(conv2d_layers)\n",
    "axx_list[3:4] = [{'axx_mult' : 'mul8s_1L2H', 'axx_power' : 0.7082, 'quant_bits' : 8, 'fake_quant' : False}] * 1\n",
    "\n",
    "start = time.time()\n",
    "replace_conv_layers(model,  AdaptConv2D, axx_list, 0, 0, layer_count=[0], returned_power = [0], initialize = True)  \n",
    "print('Time to compile cuda extensions: ', time.time()-start)"
   ]
  },
  {
   "cell_type": "code",
   "execution_count": null,
   "id": "512ada14",
   "metadata": {},
   "outputs": [],
   "source": [
    "# measure flops of model and compute 'flops' in every layer\n",
    "\n",
    "import io\n",
    "from classification.ptflops import get_model_complexity_info\n",
    "from classification.ptflops.pytorch_ops import linear_flops_counter_hook\n",
    "from classification.ptflops.pytorch_ops import conv_flops_counter_hook\n",
    "\n",
    "#hook our custom axx_layers in the appropriate flop counters, i.e. AdaptConv2D : conv_flops_counter_hook\n",
    "with torch.cuda.device(0):\n",
    "    total_macs, total_params, layer_specs = get_model_complexity_info(model, (3, 32, 32),as_strings=False, print_per_layer_stat=True,\n",
    "                                                          custom_modules_hooks={AdaptConv2D : conv_flops_counter_hook}, \n",
    "                                                          param_units='M', flops_units='MMac',\n",
    "                                                          verbose=True)\n",
    "\n",
    "print(f'Computational complexity:  {total_macs/1000000:.2f} MMacs')\n",
    "print(f'Number of parameters::  {total_params/1000000:.2f} MParams')\n"
   ]
  },
  {
   "cell_type": "markdown",
   "id": "52f4f461",
   "metadata": {},
   "source": [
    "## Run model calibration for quantization\n",
    "\n",
    "Calibrates the quantization parameters \n",
    "\n",
    "Need to re-run it each time the initial model changes"
   ]
  },
  {
   "cell_type": "code",
   "execution_count": null,
   "id": "8e67ac6e",
   "metadata": {},
   "outputs": [],
   "source": [
    "with torch.no_grad():\n",
    "    stats = collect_stats(model, calib_data, num_batches=2, device=device)\n",
    "    amax = compute_amax(model, method=\"percentile\", percentile=99.99, device=device)\n",
    "    \n",
    "    # optional - test different calibration methods\n",
    "    #amax = compute_amax(model, method=\"mse\")\n",
    "    #amax = compute_amax(model, method=\"entropy\")"
   ]
  },
  {
   "cell_type": "markdown",
   "id": "57a48a6e",
   "metadata": {},
   "source": [
    "## Run model evaluation\n"
   ]
  },
  {
   "cell_type": "code",
   "execution_count": null,
   "id": "c927c698",
   "metadata": {},
   "outputs": [],
   "source": [
    "# set desired approximate multiplier in each layer\n",
    "\n",
    "#at first, set all layers to have the 8-bit accurate multiplier\n",
    "axx_list = [{'axx_mult' : 'mul8s_acc', 'axx_power' : 1.0, 'quant_bits' : 8, 'fake_quant' : False}]*len(conv2d_layers)\n",
    "\n",
    "# For example, set the first 10 layers to be approximated with a specific multiplier \n",
    "axx_list[0:10] = [{'axx_mult' : 'mul8s_1L2H', 'axx_power' : 0.7082, 'quant_bits' : 8, 'fake_quant' : False}] * 10\n",
    "\n",
    "returned_power = [0]\n",
    "replace_conv_layers(model,  AdaptConv2D, axx_list, total_macs, total_params, layer_count=[0], returned_power = returned_power, initialize = False)  \n",
    "print('Power of approximated operations: ', round(returned_power[0], 2), '%')\n",
    "print('Model compiled. Running evaluation')\n",
    "\n",
    "# Run evaluation on the validation dataset\n",
    "top1 = evaluate_cifar10(model, val_data, device = device)"
   ]
  },
  {
   "cell_type": "markdown",
   "id": "c139533e-bab5-4144-9bf3-ad2497f7d839",
   "metadata": {},
   "source": [
    "## Run model retraining\n"
   ]
  },
  {
   "cell_type": "code",
   "execution_count": null,
   "id": "182ef59c-c29c-4bf6-afc4-1b4fb1e6bc89",
   "metadata": {},
   "outputs": [],
   "source": [
    "from classification.train import train_one_epoch\n",
    "\n",
    "criterion = torch.nn.CrossEntropyLoss().to(device)\n",
    "optimizer = torch.optim.SGD(model.parameters(), lr=0.0001) # set desired learning rate\n",
    "lr_scheduler = torch.optim.lr_scheduler.StepLR(optimizer, step_size=1, gamma=0.1)\n",
    "\n",
    "#one epoch retrain\n",
    "train_one_epoch(model, criterion, optimizer, calib_data, device, 0, 10)"
   ]
  },
  {
   "cell_type": "markdown",
   "id": "d65da4f4-d0a9-4fe5-a70d-935ccb238c4a",
   "metadata": {},
   "source": [
    "## Re-run model evaluation"
   ]
  },
  {
   "cell_type": "code",
   "execution_count": null,
   "id": "e9f6e1dd-07bb-4795-b0d6-34d7680f11c7",
   "metadata": {},
   "outputs": [],
   "source": [
    "top1 = evaluate_cifar10(model, val_data, device = device)"
   ]
  },
  {
   "cell_type": "code",
   "execution_count": null,
   "id": "180a1b6b-7561-4beb-9b41-ba506a8d2004",
   "metadata": {},
   "outputs": [],
   "source": []
  }
 ],
 "metadata": {
  "kernelspec": {
   "display_name": "Python 3 (ipykernel)",
   "language": "python",
   "name": "python3"
  },
  "language_info": {
   "codemirror_mode": {
    "name": "ipython",
    "version": 3
   },
   "file_extension": ".py",
   "mimetype": "text/x-python",
   "name": "python",
   "nbconvert_exporter": "python",
   "pygments_lexer": "ipython3",
   "version": "3.10.11"
  }
 },
 "nbformat": 4,
 "nbformat_minor": 5
}
