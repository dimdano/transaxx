{
 "cells": [
  {
   "cell_type": "markdown",
   "id": "cd6c5d2a",
   "metadata": {},
   "source": [
    "## LUT conversion Tool \n",
    "\n",
    "Converting an approximate multiplier function into a pre-computed C header file\n",
    "\n",
    " * An example toolflow is presented of importing an axx_mult from EvoApprox library (Step 1a) but any user-defined axx_mult can be used (Step 1b)\n",
    " * Start from \"Step 1a\" or \"Step 1b\" depending on your case\n",
    " \n",
    " * **Important** : Only 8bit singed multipliers are supported at the moment. So the output header file must be a 256x256 C-array"
   ]
  },
  {
   "cell_type": "markdown",
   "id": "3b244c09",
   "metadata": {},
   "source": [
    "## Step 1a (case for EvoApprox multiplier)\n",
    "\n",
    "Select an axx_mult from EvoApprox library and run the provided script from EvoApprox (python pyx method)"
   ]
  },
  {
   "cell_type": "code",
   "execution_count": null,
   "id": "f31c94be",
   "metadata": {},
   "outputs": [],
   "source": [
    "use_evo = True\n",
    "\n",
    "# example used: mul8s_1L2H\n",
    "################\n",
    "!curl -s \"https://ehw.fit.vutbr.cz/evoapproxlib/v1.0?folder=multiplers/8x8_signed/pareto_pwr_wce&file=mul8s_1L2H.c&pyx=bash\" | bash\n",
    "import pyximport\n",
    "pyximport.install()\n",
    "import mul8s_1L2H\n",
    "\n",
    "def u2s(v): # 16b unsigned to 16b signed\n",
    "    if v & 32768:\n",
    "        return v - 65536\n",
    "    return v\n",
    "################\n"
   ]
  },
  {
   "cell_type": "markdown",
   "id": "01fc8d96",
   "metadata": {},
   "source": [
    "## Step 1b (case for user-defined multiplier)\n",
    "\n",
    "Create a class for your custom multiplier. The function 'mult' inside can be user-defined\n"
   ]
  },
  {
   "cell_type": "code",
   "execution_count": null,
   "id": "271b0f6c",
   "metadata": {},
   "outputs": [],
   "source": [
    "use_evo = False\n",
    "\n",
    "class my_accurate_mult(object):\n",
    "    def mul(self, a, b):\n",
    "        return a * b"
   ]
  },
  {
   "cell_type": "markdown",
   "id": "f63bc7ff",
   "metadata": {},
   "source": [
    "## Step 2\n",
    "\n",
    "Select the current multiplier\n"
   ]
  },
  {
   "cell_type": "code",
   "execution_count": null,
   "id": "de6f4a37",
   "metadata": {},
   "outputs": [],
   "source": [
    "if use_evo:\n",
    "    # for EvoApprox multiplier\n",
    "    axx_mult = mul8s_1L2H # change name appropriately\n",
    "else:\n",
    "    # for user-defined multiplier\n",
    "    axx_mult = my_accurate_mult()"
   ]
  },
  {
   "cell_type": "markdown",
   "id": "498b9cdf",
   "metadata": {},
   "source": [
    "## Step 3\n",
    "\n",
    "### unsigned to signed conversion for user-defined multiplier\n",
    "\n",
    "If the user-defined multiplier outputs unsigned numbers you need to set the following flag to 'True' to convert to signed, otherwise set to 'False'. \n",
    "\n",
    "Leave the flag also to 'True' for the case of EvoApprox multiplier\n",
    "\n",
    "**Important** The function is used for 8-bit multipliers - no support for other arithmetic at the moment\n"
   ]
  },
  {
   "cell_type": "code",
   "execution_count": null,
   "id": "9df25c1e",
   "metadata": {},
   "outputs": [],
   "source": [
    "use_signed_conversion = True"
   ]
  },
  {
   "cell_type": "code",
   "execution_count": null,
   "id": "2fcff831",
   "metadata": {},
   "outputs": [],
   "source": [
    "###### DO NOT CHANGE ######\n",
    "\n",
    "nbits = 8\n",
    "\n",
    "if use_signed_conversion:\n",
    "    #for the case of signed conversion\n",
    "    def u2s(v): # 16b unsigned to 16b signed\n",
    "        if v & 32768:\n",
    "            return v - 65536\n",
    "        return v\n",
    "else:  \n",
    "    #for the case of no conversion\n",
    "    def u2s(v): \n",
    "        return v"
   ]
  },
  {
   "cell_type": "markdown",
   "id": "7a06373b",
   "metadata": {},
   "source": [
    "## Step 4\n",
    "\n",
    "Set the name of the header file to write on disk\n"
   ]
  },
  {
   "cell_type": "code",
   "execution_count": null,
   "id": "f05138f2",
   "metadata": {},
   "outputs": [],
   "source": [
    "mult_name = 'mul8s_1L2H'"
   ]
  },
  {
   "cell_type": "markdown",
   "id": "34addb5f",
   "metadata": {},
   "source": [
    "## Step 5\n",
    "\n",
    "Write the header file to disk\n",
    "\n",
    "This script will write the C header file (*.h) to current folder path\n",
    "\n",
    "You can then move it to 'ext_modules/include/nn/cuda/axx_mults' and use its file name as the arguement to adapt layers"
   ]
  },
  {
   "cell_type": "code",
   "execution_count": null,
   "id": "6291a14d",
   "metadata": {},
   "outputs": [],
   "source": [
    "with open(mult_name + '.h', 'w') as filehandle: \n",
    "    bits = int(pow(2,nbits))\n",
    "    lut_size_str = str(bits)\n",
    "\n",
    "    filehandle.write('#include <stdint.h>\\n\\n')\n",
    "    filehandle.write('const __device__  int' + str(2*nbits) + '_t lut [' + lut_size_str + '][' + lut_size_str +'] = {')       \n",
    "    \n",
    "    for i in range (0,bits//2):\n",
    "        filehandle.write('{')\n",
    "        for j in range (0,bits//2):\n",
    "            x = u2s(axx_mult.mul(i,j))\n",
    "            filehandle.write('%s' % x)\n",
    "            filehandle.write(', ')  \n",
    "        for j in range (bits//2,bits):\n",
    "            x = u2s(axx_mult.mul(i,(bits-j)*-1))\n",
    "            filehandle.write('%s' % x)\n",
    "            if j!=bits-1:\n",
    "                filehandle.write(', ') \n",
    "        filehandle.write('},')  \n",
    "        filehandle.write('\\n')\n",
    "        \n",
    "    for i in range (bits//2,bits):\n",
    "        filehandle.write('{')\n",
    "        for j in range (0,bits//2):\n",
    "            x = u2s(axx_mult.mul((bits-i)*-1,j))        \n",
    "            filehandle.write('%s' % x)\n",
    "            filehandle.write(', ')  \n",
    "        for j in range (bits//2,bits):\n",
    "            x = u2s(axx_mult.mul((bits-i),(bits-j)))\n",
    "            filehandle.write('%s' % x)\n",
    "            if j!=bits-1:\n",
    "                filehandle.write(', ')\n",
    "        if(i!=bits-1):        \n",
    "            filehandle.write('},')\n",
    "            filehandle.write('\\n')\n",
    "    filehandle.write('}};\\n')        "
   ]
  },
  {
   "cell_type": "code",
   "execution_count": null,
   "id": "6c24335d",
   "metadata": {},
   "outputs": [],
   "source": []
  }
 ],
 "metadata": {
  "kernelspec": {
   "display_name": "Python 3 (ipykernel)",
   "language": "python",
   "name": "python3"
  },
  "language_info": {
   "codemirror_mode": {
    "name": "ipython",
    "version": 3
   },
   "file_extension": ".py",
   "mimetype": "text/x-python",
   "name": "python",
   "nbconvert_exporter": "python",
   "pygments_lexer": "ipython3",
   "version": "3.10.11"
  }
 },
 "nbformat": 4,
 "nbformat_minor": 5
}
